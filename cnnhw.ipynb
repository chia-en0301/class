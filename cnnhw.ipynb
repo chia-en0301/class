{
 "cells": [
  {
   "cell_type": "code",
   "execution_count": 1,
   "metadata": {},
   "outputs": [],
   "source": [
    "%matplotlib inline\n",
    "\n",
    "import numpy as np\n",
    "import matplotlib.pyplot as plt\n",
    "import pandas as pd"
   ]
  },
  {
   "cell_type": "markdown",
   "metadata": {},
   "source": [
    "### 處理資料"
   ]
  },
  {
   "cell_type": "code",
   "execution_count": 2,
   "metadata": {},
   "outputs": [],
   "source": [
    "from tensorflow.keras.datasets import fashion_mnist"
   ]
  },
  {
   "cell_type": "code",
   "execution_count": 3,
   "metadata": {},
   "outputs": [],
   "source": [
    "(x_train, y_train), (x_test, y_test) = fashion_mnist.load_data()"
   ]
  },
  {
   "cell_type": "code",
   "execution_count": 4,
   "metadata": {},
   "outputs": [
    {
     "data": {
      "text/plain": [
       "(60000, 28, 28)"
      ]
     },
     "execution_count": 4,
     "metadata": {},
     "output_type": "execute_result"
    }
   ],
   "source": [
    "x_train.shape"
   ]
  },
  {
   "cell_type": "code",
   "execution_count": 5,
   "metadata": {},
   "outputs": [
    {
     "data": {
      "text/plain": [
       "array([[  0,   0,   0,   0,   0,   0,   0,   0,   0,  17,  39, 135, 110,\n",
       "         66,  66,  92, 159,  92,   1,   0,   0,   0,   0,   0,   0,   0,\n",
       "          0,   0],\n",
       "       [  0,   0,   0,   0,   0,   0,  17,  67,  92,  93,  76,  88, 170,\n",
       "        192, 180, 194, 143,  65,  83,  91,  60,  11,   0,   0,   0,   0,\n",
       "          0,   0],\n",
       "       [  0,   0,   0,   0,   0,  20, 101,  83,  69,  58,  65,  50,  28,\n",
       "         33,  38,  24,  22,  46,  52,  58,  78,  93,  12,   0,   0,   0,\n",
       "          0,   0],\n",
       "       [  0,   0,   0,   0,   0,  82,  81,  55,  66,  64,  62,  66,  64,\n",
       "         57,  53,  55,  61,  55,  55,  54,  49,  60,  60,   0,   0,   0,\n",
       "          0,   0],\n",
       "       [  0,   0,   0,   0,  10, 101,  75,  67,  61,  63,  67,  64,  63,\n",
       "         55,  49,  36,  40,  52,  54,  53,  53,  55,  77,   6,   0,   0,\n",
       "          0,   0],\n",
       "       [  0,   0,   0,   0,  32, 118,  90,  64,  65,  65,  64,  60,  50,\n",
       "         27,  56, 101,  31,  36,  49,  54,  48,  68,  83,  23,   0,   0,\n",
       "          0,   0],\n",
       "       [  0,   0,   0,   0,  52,  88, 118,  66,  72,  65,  54,  37,  46,\n",
       "         36, 136, 254, 196,  53,  36,  52,  53, 110,  64,  44,   0,   0,\n",
       "          0,   0],\n",
       "       [  0,   0,   0,   0,  72,  73, 110,  83,  72,  66,  45, 116, 243,\n",
       "        213, 225, 124, 202, 180,  31,  43,  73,  98,  56,  54,   0,   0,\n",
       "          0,   0],\n",
       "       [  0,   0,   0,   0,  85,  78,  97,  68,  70,  59, 120, 253, 179,\n",
       "        255,  78, 155,  48, 250,  61,  38,  60,  61,  68,  56,   0,   0,\n",
       "          0,   0],\n",
       "       [  0,   0,   0,   0,  85,  67, 137,  91,  57,  59, 217, 166, 130,\n",
       "        116,  21,  77, 153, 225,  67,  38,  59,  76,  61,  63,   0,   0,\n",
       "          0,   0],\n",
       "       [  0,   0,   0,   0,  82,  56, 123, 115,  47,  73, 255,  88, 117,\n",
       "         69, 149,  78, 181, 227,  51,  39,  59,  83,  63,  68,   0,   0,\n",
       "          0,   0],\n",
       "       [  0,   0,   0,   0,  83,  63, 106, 102,  49,  68, 255, 224,   0,\n",
       "        212, 223, 146, 175, 198,  34,  37,  67,  86,  59,  80,   0,   0,\n",
       "          0,   0],\n",
       "       [  0,   0,   0,   0,  86,  71,  93,  98,  57,  48, 245, 179, 153,\n",
       "        240, 195, 237, 222,  73,  43,  41,  83,  98,  79,  80,   0,   0,\n",
       "          0,   0],\n",
       "       [  0,   0,   0,   0,  79,  85,  92,  88,  66,  48, 126, 214, 242,\n",
       "        235, 121, 150,  62,  39,  60,  37, 104, 113, 103,  63,  10,   0,\n",
       "          0,   0],\n",
       "       [  0,   0,   0,   4,  77,  89, 107,  81,  66,  66,  48, 122, 200,\n",
       "        255,  67,  27,  48,  58,  62,  43,  70, 112, 105,  56,  17,   0,\n",
       "          0,   0],\n",
       "       [  0,   0,   0,  21,  77,  72, 127,  86,  65,  72,  57,  40,  65,\n",
       "        100,  67,  52,  68,  63,  66,  40,  89, 125,  86,  57,  22,   0,\n",
       "          0,   0],\n",
       "       [  0,   0,   0,  28,  77,  62, 123, 112,  57,  68,  70,  61,  48,\n",
       "         49,  61,  61,  68,  68,  64,  34, 119, 138,  66,  62,  24,   0,\n",
       "          0,   0],\n",
       "       [  0,   0,   0,  27,  76,  56, 119, 119,  52,  66,  67,  66,  68,\n",
       "         68,  66,  64,  69,  67,  66,  34, 120, 130,  56,  68,  24,   0,\n",
       "          0,   0],\n",
       "       [  0,   0,   0,  30,  71,  55, 119, 105,  49,  69,  66,  65,  64,\n",
       "         65,  68,  63,  64,  67,  65,  39, 101, 120,  53,  69,  27,   0,\n",
       "          0,   0],\n",
       "       [  0,   0,   0,  34,  68,  53, 121,  89,  51,  67,  66,  65,  64,\n",
       "         68,  68,  63,  63,  68,  64,  47,  89, 117,  53,  67,  32,   0,\n",
       "          0,   0],\n",
       "       [  0,   0,   0,  32,  66,  56, 111,  62,  56,  65,  64,  65,  64,\n",
       "         70,  68,  64,  65,  65,  65,  57,  63, 109,  58,  66,  35,   0,\n",
       "          0,   0],\n",
       "       [  0,   0,   0,  33,  64,  65,  94,  38,  67,  66,  64,  65,  63,\n",
       "         69,  68,  64,  64,  64,  66,  66,  38,  92,  63,  63,  37,   0,\n",
       "          0,   0],\n",
       "       [  0,   0,   0,  40,  62,  68,  78,  32,  72,  64,  64,  65,  64,\n",
       "         69,  68,  63,  66,  65,  65,  73,  33,  80,  65,  60,  38,   0,\n",
       "          0,   0],\n",
       "       [  0,   0,   0,  47,  58,  71,  66,  24,  71,  61,  63,  62,  61,\n",
       "         69,  70,  62,  63,  67,  61,  69,  22,  72,  66,  60,  43,   0,\n",
       "          0,   0],\n",
       "       [  0,   0,   0,  45,  55,  80,  44,  35,  87,  63,  69,  66,  62,\n",
       "         64,  69,  65,  61,  69,  65,  77,  21,  67,  70,  59,  45,   0,\n",
       "          0,   0],\n",
       "       [  0,   0,   0,  44,  56,  87,  49,  15, 101,  85,  90,  90,  90,\n",
       "         90,  92,  88,  86,  88,  83, 101,  25,  71,  80,  56,  41,   0,\n",
       "          0,   0],\n",
       "       [  0,   0,   0,  40,  58,  87,  68,   0,  18,  14,  18,  19,  21,\n",
       "         21,  20,  16,  19,  19,  16,  19,   0,  69,  81,  63,  39,   0,\n",
       "          0,   0],\n",
       "       [  0,   0,   0,  22,  50,  60,  49,   0,   0,   0,   0,   0,   0,\n",
       "          0,   0,   0,   0,   0,   0,   0,   0,  49,  69,  47,  24,   0,\n",
       "          0,   0]], dtype=uint8)"
      ]
     },
     "execution_count": 5,
     "metadata": {},
     "output_type": "execute_result"
    }
   ],
   "source": [
    "x_train[123]"
   ]
  },
  {
   "cell_type": "code",
   "execution_count": 6,
   "metadata": {},
   "outputs": [],
   "source": [
    "x_train=x_train.reshape(60000,28,28,1)/255"
   ]
  },
  {
   "cell_type": "code",
   "execution_count": 7,
   "metadata": {},
   "outputs": [],
   "source": [
    "x_test=x_test.reshape(10000,28,28,1)/255"
   ]
  },
  {
   "cell_type": "code",
   "execution_count": 8,
   "metadata": {},
   "outputs": [
    {
     "data": {
      "text/plain": [
       "((28, 28, 1), 2)"
      ]
     },
     "execution_count": 8,
     "metadata": {},
     "output_type": "execute_result"
    }
   ],
   "source": [
    "x_train[123].shape,y_train[123]"
   ]
  },
  {
   "cell_type": "code",
   "execution_count": 9,
   "metadata": {},
   "outputs": [],
   "source": [
    "from tensorflow.keras.utils import to_categorical #載入模組"
   ]
  },
  {
   "cell_type": "code",
   "execution_count": 10,
   "metadata": {},
   "outputs": [],
   "source": [
    "y_train = to_categorical(y_train, 10)\n",
    "y_test = to_categorical(y_test, 10) #onehotencoder"
   ]
  },
  {
   "cell_type": "markdown",
   "metadata": {},
   "source": [
    "### 打造函數學習機CNN(用6個36個216個4*4的filter去打造，本來想改activation=sigmoid結果資料正確率會太低，又跑好久就換回來了)"
   ]
  },
  {
   "cell_type": "code",
   "execution_count": 11,
   "metadata": {},
   "outputs": [],
   "source": [
    "from tensorflow.keras.models import Sequential\n",
    "from tensorflow.keras.layers import Conv2D, MaxPooling2D\n",
    "from tensorflow.keras.layers import Dense, Flatten\n",
    "from tensorflow.keras.optimizers import SGD\n",
    "from tensorflow.keras.optimizers import Adam"
   ]
  },
  {
   "cell_type": "code",
   "execution_count": 12,
   "metadata": {},
   "outputs": [],
   "source": [
    "model=Sequential()"
   ]
  },
  {
   "cell_type": "code",
   "execution_count": 13,
   "metadata": {},
   "outputs": [],
   "source": [
    "model.add(Conv2D(6,(4,4),padding='same',input_shape=(28,28,1),activation='relu'))\n",
    "model.add(MaxPooling2D(pool_size=(2,2)))#第一層\n",
    "model.add(Conv2D(36,(4,4),padding='same',activation='relu'))\n",
    "model.add(MaxPooling2D(pool_size=(2,2)))#第二層\n",
    "model.add(Conv2D(216,(4,4),padding='same',activation='relu'))\n",
    "model.add(MaxPooling2D(pool_size=(2,2)))#第三層"
   ]
  },
  {
   "cell_type": "code",
   "execution_count": 14,
   "metadata": {},
   "outputs": [],
   "source": [
    "model.add(Flatten())#拉平"
   ]
  },
  {
   "cell_type": "code",
   "execution_count": 15,
   "metadata": {},
   "outputs": [],
   "source": [
    "model.add(Dense(33, activation='relu'))#全連結隱藏層"
   ]
  },
  {
   "cell_type": "code",
   "execution_count": 16,
   "metadata": {},
   "outputs": [],
   "source": [
    "model.add(Dense(10, activation='softmax'))#輸出結果"
   ]
  },
  {
   "cell_type": "markdown",
   "metadata": {},
   "source": [
    "### 看一下長甚麼樣子(lr用0.99)"
   ]
  },
  {
   "cell_type": "code",
   "execution_count": 17,
   "metadata": {},
   "outputs": [
    {
     "name": "stdout",
     "output_type": "stream",
     "text": [
      "Model: \"sequential\"\n",
      "_________________________________________________________________\n",
      "Layer (type)                 Output Shape              Param #   \n",
      "=================================================================\n",
      "conv2d (Conv2D)              (None, 28, 28, 6)         102       \n",
      "_________________________________________________________________\n",
      "max_pooling2d (MaxPooling2D) (None, 14, 14, 6)         0         \n",
      "_________________________________________________________________\n",
      "conv2d_1 (Conv2D)            (None, 14, 14, 36)        3492      \n",
      "_________________________________________________________________\n",
      "max_pooling2d_1 (MaxPooling2 (None, 7, 7, 36)          0         \n",
      "_________________________________________________________________\n",
      "conv2d_2 (Conv2D)            (None, 7, 7, 216)         124632    \n",
      "_________________________________________________________________\n",
      "max_pooling2d_2 (MaxPooling2 (None, 3, 3, 216)         0         \n",
      "_________________________________________________________________\n",
      "flatten (Flatten)            (None, 1944)              0         \n",
      "_________________________________________________________________\n",
      "dense (Dense)                (None, 33)                64185     \n",
      "_________________________________________________________________\n",
      "dense_1 (Dense)              (None, 10)                340       \n",
      "=================================================================\n",
      "Total params: 192,751\n",
      "Trainable params: 192,751\n",
      "Non-trainable params: 0\n",
      "_________________________________________________________________\n"
     ]
    }
   ],
   "source": [
    "model.summary()"
   ]
  },
  {
   "cell_type": "code",
   "execution_count": 18,
   "metadata": {},
   "outputs": [],
   "source": [
    "model.compile(loss='mse', optimizer=SGD(lr=0.99),metrics=['accuracy'])"
   ]
  },
  {
   "cell_type": "markdown",
   "metadata": {},
   "source": [
    "### 訓練 (每60次調整一次，跑7次)"
   ]
  },
  {
   "cell_type": "code",
   "execution_count": 19,
   "metadata": {},
   "outputs": [
    {
     "name": "stdout",
     "output_type": "stream",
     "text": [
      "Train on 60000 samples\n",
      "Epoch 1/7\n",
      "60000/60000 [==============================] - 80s 1ms/sample - loss: 0.0454 - accuracy: 0.6507\n",
      "Epoch 2/7\n",
      "60000/60000 [==============================] - 83s 1ms/sample - loss: 0.0224 - accuracy: 0.8432\n",
      "Epoch 3/7\n",
      "60000/60000 [==============================] - 83s 1ms/sample - loss: 0.0184 - accuracy: 0.8733\n",
      "Epoch 4/7\n",
      "60000/60000 [==============================] - 84s 1ms/sample - loss: 0.0166 - accuracy: 0.8871\n",
      "Epoch 5/7\n",
      "60000/60000 [==============================] - 86s 1ms/sample - loss: 0.0152 - accuracy: 0.8971\n",
      "Epoch 6/7\n",
      "60000/60000 [==============================] - 94s 2ms/sample - loss: 0.0142 - accuracy: 0.9034\n",
      "Epoch 7/7\n",
      "60000/60000 [==============================] - 85s 1ms/sample - loss: 0.0134 - accuracy: 0.9100\n"
     ]
    },
    {
     "data": {
      "text/plain": [
       "<tensorflow.python.keras.callbacks.History at 0x26111c42cc8>"
      ]
     },
     "execution_count": 19,
     "metadata": {},
     "output_type": "execute_result"
    }
   ],
   "source": [
    "model.fit(x_train, y_train, batch_size=60, epochs=7)"
   ]
  },
  {
   "cell_type": "markdown",
   "metadata": {},
   "source": [
    "### 預測"
   ]
  },
  {
   "cell_type": "code",
   "execution_count": 20,
   "metadata": {},
   "outputs": [],
   "source": [
    "result = model.predict_classes(x_test)"
   ]
  },
  {
   "cell_type": "code",
   "execution_count": 21,
   "metadata": {},
   "outputs": [],
   "source": [
    "class_names = ['T-shirt/top', 'Trouser', 'Pullover', 'Dress', 'Coat',\n",
    "               'Sandal', 'Shirt', 'Sneaker', 'Bag', 'Ankle boot']"
   ]
  },
  {
   "cell_type": "code",
   "execution_count": 22,
   "metadata": {},
   "outputs": [],
   "source": [
    "def myprediction(n):\n",
    "    print(\"CNN預測為\",class_names[result[n]])\n",
    "    x=x_test[n].reshape(28,28)\n",
    "    plt.imshow(x,cmap=\"red\")"
   ]
  },
  {
   "cell_type": "code",
   "execution_count": 23,
   "metadata": {},
   "outputs": [
    {
     "name": "stdout",
     "output_type": "stream",
     "text": [
      "CNN預測是 Dress\n"
     ]
    },
    {
     "data": {
      "image/png": "[encoded data removed]",
      "text/plain": [
       "<Figure size 432x288 with 1 Axes>"
      ]
     },
     "metadata": {
      "needs_background": "light"
     },
     "output_type": "display_data"
    }
   ],
   "source": [
    "pred(7865)"
   ]
  },
  {
   "cell_type": "code",
   "execution_count": 24,
   "metadata": {},
   "outputs": [],
   "source": [
    "from ipywidgets import interact_manual"
   ]
  },
  {
   "cell_type": "code",
   "execution_count": 25,
   "metadata": {},
   "outputs": [
    {
     "data": {
      "application/vnd.jupyter.widget-view+json": {
       "model_id": "3016fc1c7d4840f29924a388044c7cd3",
       "version_major": 2,
       "version_minor": 0
      },
      "text/plain": [
       "interactive(children=(IntSlider(value=4999, description='n', max=9999), Button(description='Run Interact', sty…"
      ]
     },
     "metadata": {},
     "output_type": "display_data"
    },
    {
     "data": {
      "text/plain": [
       "<function __main__.pred(n)>"
      ]
     },
     "execution_count": 25,
     "metadata": {},
     "output_type": "execute_result"
    }
   ],
   "source": [
    "interact_manual(myprediction, n=(0, 9999))"
   ]
  },
  {
   "cell_type": "code",
   "execution_count": 26,
   "metadata": {},
   "outputs": [
    {
     "name": "stdout",
     "output_type": "stream",
     "text": [
      "10000/10000 [==============================] - 4s 378us/sample - loss: 0.0162 - accuracy: 0.8905\n"
     ]
    }
   ],
   "source": [
    "score = model.evaluate(x_test, y_test)"
   ]
  },
  {
   "cell_type": "code",
   "execution_count": 27,
   "metadata": {},
   "outputs": [],
   "source": [
    "loss, acc = score"
   ]
  },
  {
   "cell_type": "code",
   "execution_count": 28,
   "metadata": {},
   "outputs": [
    {
     "name": "stdout",
     "output_type": "stream",
     "text": [
      "測試資料的正確率為 0.8905\n"
     ]
    }
   ],
   "source": [
    "print('測試資料的正確率為', acc)"
   ]
  },
  {
   "cell_type": "markdown",
   "metadata": {},
   "source": [
    "### 存放model"
   ]
  },
  {
   "cell_type": "code",
   "execution_count": null,
   "metadata": {},
   "outputs": [],
   "source": [
    "model.save('myCNNmodel.h5')"
   ]
  },
  {
   "cell_type": "code",
   "execution_count": null,
   "metadata": {},
   "outputs": [],
   "source": []
  },
  {
   "cell_type": "code",
   "execution_count": null,
   "metadata": {},
   "outputs": [],
   "source": []
  },
  {
   "cell_type": "code",
   "execution_count": null,
   "metadata": {},
   "outputs": [],
   "source": []
  },
  {
   "cell_type": "code",
   "execution_count": null,
   "metadata": {},
   "outputs": [],
   "source": []
  },
  {
   "cell_type": "code",
   "execution_count": null,
   "metadata": {},
   "outputs": [],
   "source": []
  }
 ],
 "metadata": {
  "kernelspec": {
   "display_name": "Python 3",
   "language": "python",
   "name": "python3"
  },
  "language_info": {
   "codemirror_mode": {
    "name": "ipython",
    "version": 3
   },
   "file_extension": ".py",
   "mimetype": "text/x-python",
   "name": "python",
   "nbconvert_exporter": "python",
   "pygments_lexer": "ipython3",
   "version": "3.7.4"
  }
 },
 "nbformat": 4,
 "nbformat_minor": 2
}
