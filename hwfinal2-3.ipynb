{
 "cells": [
  {
   "cell_type": "code",
   "execution_count": 11,
   "metadata": {
    "colab": {},
    "colab_type": "code",
    "id": "oFgp1xx2P-03"
   },
   "outputs": [],
   "source": [
    "# Import some useful packages\n",
    "import matplotlib.pyplot as plt\n",
    "import numpy as np\n",
    "\n",
    "# Layers for FNN\n",
    "from tensorflow.keras.models import Sequential\n",
    "from tensorflow.keras.layers import Dense\n",
    "from tensorflow.keras.layers import Flatten\n",
    "\n",
    "# Layers for CNN\n",
    "from tensorflow.keras.layers import Conv2D, MaxPool2D, GlobalAveragePooling2D\n",
    "\n",
    "from tensorflow.keras.optimizers import SGD, Adam\n",
    "\n",
    "# For data preprocessing\n",
    "from tensorflow.keras.datasets import fashion_mnist\n",
    "from tensorflow.keras.utils import to_categorical\n",
    "\n",
    "from tensorflow.keras.models import Model\n",
    "from tensorflow.keras.layers import Input\n",
    "from tensorflow.keras.layers import concatenate, add"
   ]
  },
  {
   "cell_type": "code",
   "execution_count": 12,
   "metadata": {
    "colab": {
     "base_uri": "https://localhost:8080/",
     "height": 150
    },
    "colab_type": "code",
    "id": "iwwiRN0gQYVb",
    "outputId": "449a56ce-b33b-444c-cbb5-0c45e8178d2b"
   },
   "outputs": [],
   "source": [
    "# Load Fashine MNIST\n",
    "(X_train, y_train0), (X_test, y_test0) = fashion_mnist.load_data()\n",
    "\n",
    "# Reshape size\n",
    "X_train = X_train.reshape(-1, 784)\n",
    "X_test = X_test.reshape(-1, 784)\n",
    "\n",
    "# Normalize the range of featurs\n",
    "X_train = X_train / X_train.max()\n",
    "X_test = X_test / X_test.max()\n",
    "\n",
    "# One-hot encoding\n",
    "y_train = to_categorical(y_train0, 10)\n",
    "y_test = to_categorical(y_test0, 10)"
   ]
  },
  {
   "cell_type": "code",
   "execution_count": 13,
   "metadata": {},
   "outputs": [
    {
     "data": {
      "image/png": "[encoded data removed]",
      "text/plain": [
       "<IPython.core.display.Image object>"
      ]
     },
     "execution_count": 13,
     "metadata": {},
     "output_type": "execute_result"
    }
   ],
   "source": [
    "from IPython.display import Image\n",
    "Image(filename= \"1.png\")"
   ]
  },
  {
   "cell_type": "code",
   "execution_count": 14,
   "metadata": {
    "colab": {},
    "colab_type": "code",
    "id": "J7oXF1tIQqPn"
   },
   "outputs": [],
   "source": [
    "f_1 = Dense(500, activation='relu')\n",
    "f_2 = Dense(200, activation='relu')\n",
    "f_3 = Dense(200, activation='sigmoid')\n",
    "f_4 = Dense(150, activation='sigmoid')\n",
    "f_5 = Dense(10, activation='softmax')"
   ]
  },
  {
   "cell_type": "code",
   "execution_count": 15,
   "metadata": {
    "colab": {},
    "colab_type": "code",
    "id": "BAxXZiLsRGxS"
   },
   "outputs": [],
   "source": [
    "x = Input(shape=(784,))"
   ]
  },
  {
   "cell_type": "code",
   "execution_count": 16,
   "metadata": {
    "colab": {},
    "colab_type": "code",
    "id": "lj1hpAhXRKPG"
   },
   "outputs": [],
   "source": [
    "h_1 = f_1(x)\n",
    "h_2 = f_2(h_1)\n",
    "h_3 = f_3(h_1)\n",
    "s = concatenate([h_2, h_3])\n",
    "h_4 = f_4(s)\n",
    "y = f_5(h_2)"
   ]
  },
  {
   "cell_type": "code",
   "execution_count": 17,
   "metadata": {
    "colab": {
     "base_uri": "https://localhost:8080/",
     "height": 284
    },
    "colab_type": "code",
    "id": "2Y0Vw78lRggA",
    "outputId": "5d0205d8-bd78-44d8-d4a9-7ef41fb36b3e"
   },
   "outputs": [
    {
     "name": "stdout",
     "output_type": "stream",
     "text": [
      "Model: \"model_1\"\n",
      "_________________________________________________________________\n",
      "Layer (type)                 Output Shape              Param #   \n",
      "=================================================================\n",
      "input_2 (InputLayer)         [(None, 784)]             0         \n",
      "_________________________________________________________________\n",
      "dense_5 (Dense)              (None, 500)               392500    \n",
      "_________________________________________________________________\n",
      "dense_6 (Dense)              (None, 200)               100200    \n",
      "_________________________________________________________________\n",
      "dense_9 (Dense)              (None, 10)                2010      \n",
      "=================================================================\n",
      "Total params: 494,710\n",
      "Trainable params: 494,710\n",
      "Non-trainable params: 0\n",
      "_________________________________________________________________\n"
     ]
    }
   ],
   "source": [
    "model = Model(x, y)\n",
    "model.summary()"
   ]
  },
  {
   "cell_type": "code",
   "execution_count": 18,
   "metadata": {
    "colab": {},
    "colab_type": "code",
    "id": "xH0xEaKVRjTn"
   },
   "outputs": [],
   "source": [
    "model.compile(loss='mse', \n",
    "              optimizer=Adam(), \n",
    "              metrics=['accuracy'])"
   ]
  },
  {
   "cell_type": "code",
   "execution_count": 19,
   "metadata": {
    "colab": {
     "base_uri": "https://localhost:8080/",
     "height": 334
    },
    "colab_type": "code",
    "id": "YJ9eN6ZJRlkT",
    "outputId": "e63cd9a3-8806-4ec8-a9ef-b1fea5910038"
   },
   "outputs": [
    {
     "name": "stdout",
     "output_type": "stream",
     "text": [
      "Train on 60000 samples\n",
      "Epoch 1/9\n",
      "60000/60000 [==============================] - 2s 27us/sample - loss: 0.0311 - accuracy: 0.7830\n",
      "Epoch 2/9\n",
      "60000/60000 [==============================] - 1s 22us/sample - loss: 0.0205 - accuracy: 0.8606\n",
      "Epoch 3/9\n",
      "60000/60000 [==============================] - 1s 23us/sample - loss: 0.0184 - accuracy: 0.8759\n",
      "Epoch 4/9\n",
      "60000/60000 [==============================] - 1s 25us/sample - loss: 0.0169 - accuracy: 0.8858\n",
      "Epoch 5/9\n",
      "60000/60000 [==============================] - 1s 22us/sample - loss: 0.0161 - accuracy: 0.8911\n",
      "Epoch 6/9\n",
      "60000/60000 [==============================] - 1s 24us/sample - loss: 0.0156 - accuracy: 0.8943\n",
      "Epoch 7/9\n",
      "60000/60000 [==============================] - 1s 24us/sample - loss: 0.0150 - accuracy: 0.8994\n",
      "Epoch 8/9\n",
      "60000/60000 [==============================] - 1s 23us/sample - loss: 0.0141 - accuracy: 0.9044\n",
      "Epoch 9/9\n",
      "60000/60000 [==============================] - 2s 26us/sample - loss: 0.0135 - accuracy: 0.9091\n"
     ]
    },
    {
     "data": {
      "text/plain": [
       "<tensorflow.python.keras.callbacks.History at 0x2a0f4014d48>"
      ]
     },
     "execution_count": 19,
     "metadata": {},
     "output_type": "execute_result"
    }
   ],
   "source": [
    "model.fit(X_train, y_train, \n",
    "          batch_size=600, \n",
    "          epochs=9)"
   ]
  },
  {
   "cell_type": "code",
   "execution_count": 20,
   "metadata": {
    "colab": {
     "base_uri": "https://localhost:8080/",
     "height": 67
    },
    "colab_type": "code",
    "id": "z5giKQ0bRq9r",
    "outputId": "6b07efef-e1ec-4b02-951a-2e2bb02f1ab6"
   },
   "outputs": [
    {
     "name": "stdout",
     "output_type": "stream",
     "text": [
      "60000/60000 [==============================] - 1s 13us/sample - loss: 0.0127 - accuracy: 0.9155\n",
      "Loss: 0.01271583108852307\n",
      "準確率: 91.55333042144775\n"
     ]
    }
   ],
   "source": [
    "score = model.evaluate(X_train, y_train, batch_size=10000)\n",
    "print(f'Loss: {score[0]}')\n",
    "print(f'準確率: {score[1]*100}')"
   ]
  },
  {
   "cell_type": "code",
   "execution_count": null,
   "metadata": {
    "colab": {},
    "colab_type": "code",
    "id": "2dBFcm81RyNO"
   },
   "outputs": [],
   "source": []
  },
  {
   "cell_type": "code",
   "execution_count": null,
   "metadata": {},
   "outputs": [],
   "source": []
  }
 ],
 "metadata": {
  "colab": {
   "name": "Untitled2.ipynb",
   "provenance": []
  },
  "kernelspec": {
   "display_name": "Python 3",
   "language": "python",
   "name": "python3"
  },
  "language_info": {
   "codemirror_mode": {
    "name": "ipython",
    "version": 3
   },
   "file_extension": ".py",
   "mimetype": "text/x-python",
   "name": "python",
   "nbconvert_exporter": "python",
   "pygments_lexer": "ipython3",
   "version": "3.7.4"
  }
 },
 "nbformat": 4,
 "nbformat_minor": 1
}
