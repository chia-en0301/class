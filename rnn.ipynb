{
 "cells": [
  {
   "cell_type": "code",
   "execution_count": 1,
   "metadata": {
    "colab": {},
    "colab_type": "code",
    "id": "WG4h9ch6YMMQ"
   },
   "outputs": [],
   "source": [
    "%matplotlib inline\n",
    "import numpy as np\n",
    "import matplotlib.pyplot as plt\n",
    "import pandas as py"
   ]
  },
  {
   "cell_type": "code",
   "execution_count": 2,
   "metadata": {
    "colab": {},
    "colab_type": "code",
    "id": "xjQ0LQp3YRlN"
   },
   "outputs": [],
   "source": [
    "from  tensorflow.keras.preprocessing import sequence\n",
    "from  tensorflow.keras.models import Sequential\n",
    "from  tensorflow.keras.layers import Dense,Embedding, Dropout, Activation\n",
    "from  tensorflow.keras.layers import LSTM,GRU\n",
    "from  tensorflow.keras.layers import Conv1D, MaxPooling1D\n",
    "from  tensorflow.keras.datasets import imdb"
   ]
  },
  {
   "cell_type": "markdown",
   "metadata": {
    "colab_type": "text",
    "id": "0AXK0kvjYwGg"
   },
   "source": [
    "## 1.num_words -> 13000\n",
    "## 2.maxlen -> 145\n",
    "## 3.drop out -> 0.3 \n",
    "## 4.batch_size -> 37\n",
    "## epochs -> 5"
   ]
  },
  {
   "cell_type": "code",
   "execution_count": 3,
   "metadata": {
    "colab": {},
    "colab_type": "code",
    "id": "Dx8YeSNqYTZD"
   },
   "outputs": [],
   "source": [
    "(x_train,y_train) ,(x_test,y_test) = imdb.load_data(num_words = 13000)"
   ]
  },
  {
   "cell_type": "code",
   "execution_count": 4,
   "metadata": {
    "colab": {},
    "colab_type": "code",
    "id": "Nuxf9i3cYtm9"
   },
   "outputs": [],
   "source": [
    "x_train = sequence.pad_sequences(x_train, maxlen = 145)\n",
    "x_test = sequence.pad_sequences(x_test, maxlen = 145)"
   ]
  },
  {
   "cell_type": "code",
   "execution_count": 5,
   "metadata": {
    "colab": {},
    "colab_type": "code",
    "id": "ktf79kE_ZsSi"
   },
   "outputs": [],
   "source": [
    "model = Sequential()\n",
    "model.add(Embedding(15000,128))"
   ]
  },
  {
   "cell_type": "code",
   "execution_count": 6,
   "metadata": {
    "colab": {},
    "colab_type": "code",
    "id": "Zj7_3UoEZuF5"
   },
   "outputs": [],
   "source": [
    "model.add(LSTM(100, dropout=0.3, recurrent_dropout=0.3))"
   ]
  },
  {
   "cell_type": "code",
   "execution_count": 7,
   "metadata": {
    "colab": {},
    "colab_type": "code",
    "id": "tYcMX4pLZuH9"
   },
   "outputs": [],
   "source": [
    "model.add(Dense(1, activation='sigmoid'))"
   ]
  },
  {
   "cell_type": "code",
   "execution_count": 8,
   "metadata": {
    "colab": {},
    "colab_type": "code",
    "id": "CfWl_gPhZuNF"
   },
   "outputs": [],
   "source": [
    "model.compile(loss='binary_crossentropy', optimizer='adam', metrics=['accuracy'])"
   ]
  },
  {
   "cell_type": "code",
   "execution_count": 9,
   "metadata": {
    "colab": {
     "base_uri": "https://localhost:8080/",
     "height": 251
    },
    "colab_type": "code",
    "id": "bWyaZWaSZuO2",
    "outputId": "d4454db1-51ff-4cfe-9bac-eb5ed396c4d0"
   },
   "outputs": [
    {
     "name": "stdout",
     "output_type": "stream",
     "text": [
      "Model: \"sequential\"\n",
      "_________________________________________________________________\n",
      "Layer (type)                 Output Shape              Param #   \n",
      "=================================================================\n",
      "embedding (Embedding)        (None, None, 128)         1920000   \n",
      "_________________________________________________________________\n",
      "lstm (LSTM)                  (None, 100)               91600     \n",
      "_________________________________________________________________\n",
      "dense (Dense)                (None, 1)                 101       \n",
      "=================================================================\n",
      "Total params: 2,011,701\n",
      "Trainable params: 2,011,701\n",
      "Non-trainable params: 0\n",
      "_________________________________________________________________\n"
     ]
    }
   ],
   "source": [
    "model.summary()"
   ]
  },
  {
   "cell_type": "code",
   "execution_count": 10,
   "metadata": {
    "colab": {},
    "colab_type": "code",
    "id": "2E23FvmWZuQ4"
   },
   "outputs": [
    {
     "name": "stdout",
     "output_type": "stream",
     "text": [
      "Train on 25000 samples, validate on 25000 samples\n",
      "Epoch 1/5\n",
      "25000/25000 [==============================] - 313s 13ms/sample - loss: 0.4681 - accuracy: 0.7762 - val_loss: 0.4239 - val_accuracy: 0.8308\n",
      "Epoch 2/5\n",
      "25000/25000 [==============================] - 321s 13ms/sample - loss: 0.3314 - accuracy: 0.8654 - val_loss: 0.3690 - val_accuracy: 0.8417\n",
      "Epoch 3/5\n",
      "25000/25000 [==============================] - 312s 12ms/sample - loss: 0.2748 - accuracy: 0.8940 - val_loss: 0.3613 - val_accuracy: 0.8502\n",
      "Epoch 4/5\n",
      "25000/25000 [==============================] - 307s 12ms/sample - loss: 0.2167 - accuracy: 0.9164 - val_loss: 0.4226 - val_accuracy: 0.8488\n",
      "Epoch 5/5\n",
      "25000/25000 [==============================] - 306s 12ms/sample - loss: 0.1860 - accuracy: 0.9292 - val_loss: 0.3771 - val_accuracy: 0.8465\n"
     ]
    },
    {
     "data": {
      "text/plain": [
       "<tensorflow.python.keras.callbacks.History at 0x21401ea71c8>"
      ]
     },
     "execution_count": 10,
     "metadata": {},
     "output_type": "execute_result"
    }
   ],
   "source": [
    "model.fit(x_train, y_train, batch_size = 37, epochs = 5, validation_data=(x_test,y_test))"
   ]
  },
  {
   "cell_type": "code",
   "execution_count": 0,
   "metadata": {
    "colab": {},
    "colab_type": "code",
    "id": "4h7t75CqZuSy"
   },
   "outputs": [],
   "source": []
  }
 ],
 "metadata": {
  "colab": {
   "name": "Untitled1.ipynb",
   "provenance": []
  },
  "kernelspec": {
   "display_name": "Python 3",
   "language": "python",
   "name": "python3"
  },
  "language_info": {
   "codemirror_mode": {
    "name": "ipython",
    "version": 3
   },
   "file_extension": ".py",
   "mimetype": "text/x-python",
   "name": "python",
   "nbconvert_exporter": "python",
   "pygments_lexer": "ipython3",
   "version": "3.7.4"
  }
 },
 "nbformat": 4,
 "nbformat_minor": 1
}
